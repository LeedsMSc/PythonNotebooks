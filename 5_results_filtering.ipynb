{
 "cells": [
  {
   "cell_type": "markdown",
   "id": "ecda8bb3-e6fe-46a1-8d83-f1d0991d8123",
   "metadata": {
    "tags": []
   },
   "source": [
    "# Import Modules"
   ]
  },
  {
   "cell_type": "code",
   "execution_count": 1,
   "id": "f6e080d5-c3df-493f-bbae-c45f3e478ca7",
   "metadata": {},
   "outputs": [],
   "source": [
    "# Import modules\n",
    "import easygui \n",
    "import nbimporter\n",
    "import numpy as np\n",
    "import pandas as pd\n",
    "import re\n",
    "import threading\n",
    "import time\n",
    "import xlwings as xw\n",
    "import unidecode\n",
    "\n",
    "from thefuzz import fuzz\n",
    "from openpyxl.utils import column_index_from_string\n",
    "from openpyxl.utils import get_column_letter\n",
    "from pathlib import Path\n",
    "from findfiles import FindFiles \n",
    "from datatransfer import ImportData, ExportData"
   ]
  },
  {
   "cell_type": "markdown",
   "id": "88cbbdbf",
   "metadata": {},
   "source": [
    "# Search for Excel File Paths"
   ]
  },
  {
   "cell_type": "code",
   "execution_count": 6,
   "id": "bd59077c-bcf8-4929-bbea-8389fa1167f0",
   "metadata": {},
   "outputs": [],
   "source": [
    "# Search for files and output as text file (uncomment line below)\n",
    "# find_files = FindFiles()"
   ]
  },
  {
   "cell_type": "markdown",
   "id": "aaa18c2f-6e1f-470f-a886-069018bbe882",
   "metadata": {
    "tags": []
   },
   "source": [
    "# Filtering DataFrame"
   ]
  },
  {
   "cell_type": "code",
   "execution_count": 2,
   "id": "238d4ee8-5db0-4f5a-b735-fe2af7b5ef3b",
   "metadata": {},
   "outputs": [
    {
     "name": "stdout",
     "output_type": "stream",
     "text": [
      "Excel files imported:\n",
      "\n",
      "6. Deduplication and Filtering (06-Mar-2023).xlsx   777 rows    8 Columns\n"
     ]
    }
   ],
   "source": [
    "# Import the deduplicated dataset\n",
    "data_files= [\n",
    "    Path.home().joinpath(*[\"Desktop\",\"ScopingData\",\"6. Deduplication and Filtering (06-Mar-2023).xlsx\" ]),\n",
    "            ]\n",
    "\n",
    "# Import data class \n",
    "import_data = ImportData(files_for_import = data_files, \\\n",
    "                         worksheet_index=\"final_deduplication (777, 8)\", \\\n",
    "                         headings_data_row=1, \\\n",
    "                         index_column = None, \\\n",
    "                         right_data_column = \"R\", \\\n",
    "                         has_spacing_columns = True, \\\n",
    "                         column_to_copy = \"Key\")\n",
    "\n",
    "\n",
    "# Import data to datframes\n",
    "import_data.make_dataframes()\n",
    "dataframe = import_data.dataframe"
   ]
  },
  {
   "cell_type": "markdown",
   "id": "c53efecb-fca9-45d2-ba05-dce71187c89c",
   "metadata": {},
   "source": [
    "# DataFrame Feltling "
   ]
  },
  {
   "cell_type": "code",
   "execution_count": 8,
   "id": "90dd510a-8495-4361-94b1-465cc63374a7",
   "metadata": {},
   "outputs": [],
   "source": [
    "class Fettling:\n",
    "    def __init__(self, df):\n",
    "        self.df = df\n",
    "        \n",
    "        \n",
    "    def add_columns(self):\n",
    "        self.df[[\"Status\", \"Exclusion Reason One (Abstract)\", \"Exclusion Reason Two (Abstract)\", \"Exclusion Reason Three (Abstract)\", \"Notes\"]] = \"\" \n",
    "\n",
    "        \n",
    "    def double_to_int(self):\n",
    "        self.df = self.df.astype({'Key': pd.Int64Dtype(), 'Year': pd.Int64Dtype()})\n",
    "\n",
    "        \n",
    "    def reorder_columns(self):\n",
    "        self.df = self.df[['Key', \n",
    "                           'Author', \n",
    "                           'Title', \n",
    "                           'Year', \n",
    "                           'Journal',\n",
    "                           'Name of Database',\n",
    "                           'Abstract',\n",
    "                           'Status',\n",
    "                           'Exclusion Reason One (Abstract)',\n",
    "                           'Exclusion Reason Two (Abstract)',\n",
    "                           'Exclusion Reason Three (Abstract)',\n",
    "                           'Notes']].copy()\n",
    "\n",
    "        \n",
    "    def run(self):\n",
    "        self.add_columns()\n",
    "        self.double_to_int()\n",
    "        self.reorder_columns()\n",
    "        export_data = ExportData(self.df, f\"final_deduplication {self.df.shape}\")\n",
    "        export_data.export_to_excel()\n",
    "        return self.df\n",
    "\n",
    "    \n",
    "if __name__ == '__main__':\n",
    "    fettling = Fettling(dataframe)\n",
    "    dataframe = fettling.run()"
   ]
  },
  {
   "cell_type": "markdown",
   "id": "3cd22cf1-b539-4d9d-8b1d-78b73ba8b902",
   "metadata": {
    "tags": []
   },
   "source": [
    "# Filtering"
   ]
  },
  {
   "cell_type": "code",
   "execution_count": 9,
   "id": "fb7711de-34b1-4cd2-9f7e-57bad4128502",
   "metadata": {},
   "outputs": [],
   "source": [
    "class DataFilter:\n",
    "    def __init__(self, df):\n",
    "        self.df = df\n",
    "        \n",
    "        self.animal_words = [r'\\bmice(s?)\\b', \n",
    "                             r'\\bmouse(s?)\\b', \n",
    "                             r'\\brat(s?)\\b', \n",
    "                             r'\\brabbit(s?)\\b', \n",
    "                             r'\\bfrog(s?)\\b', \n",
    "                             r'\\bcalve(s?)\\b',\n",
    "                             r'\\bdog(s?)\\b', \n",
    "                             r'\\bcat(s?)\\b', \n",
    "                             r'\\bsheep(s?)\\b', \n",
    "                             r'\\bzebrafish(s?)\\b'\n",
    "        ]   \n",
    "        \n",
    "        self.paediatric_words = [r'\\bjuvenile(s?)\\b', \n",
    "                                 r'\\bchild(?:ren)?\\b', \n",
    "                                 r'\\bchildhood(s?)\\b', \n",
    "                                 r'\\badolescent(s?)\\b', \n",
    "                                 r'\\bpa?ediatric(?:s)?\\b', \n",
    "                                 r'\\byoung adult(s?)\\b'\n",
    "        ]\n",
    "\n",
    "    def find_words(self, element, target_words):\n",
    "        if not isinstance(element, str): return False\n",
    "        return any(re.search(target_word, element.lower()) for target_word in target_words)\n",
    "\n",
    "\n",
    "    def filter_animal_words(self):\n",
    "        filt = self.df['Abstract'].apply(self.find_words, args=(self.animal_words,))\n",
    "        df_animals = self.df[filt]\n",
    "\n",
    "        # Export datafram\n",
    "        export_data = ExportData(df_animals, f\"animals {df_animals.shape}\")\n",
    "        export_data.export_to_excel()\n",
    "    \n",
    "\n",
    "    def filter_paediatric_words(self):\n",
    "        filt1 = self.df['Title'].apply(self.find_words, args=(self.paediatric_words,)) \n",
    "        filt2 = self.df['Journal'].apply(self.find_words, args=(self.paediatric_words,))\n",
    "        df_paediatrics = self.df[filt1 | filt2]\n",
    "\n",
    "        # Export datafram\n",
    "        export_data = ExportData(df_paediatrics, f\"paediatrics {df_paediatrics.shape}\")\n",
    "        export_data.export_to_excel()\n",
    "    \n",
    "\n",
    "    \n",
    "    def dataframe_filtering(self):\n",
    "        filt1 = self.df['Abstract'].apply(self.find_words, args=(self.animal_words,))\n",
    "        filt2 = self.df['Title'].apply(self.find_words, args=(self.paediatric_words,))  \n",
    "        filt3 = self.df['Journal'].apply(self.find_words, args=(self.paediatric_words,))\n",
    "        self.df = self.df[~filt1 & ~filt2 & ~filt3]\n",
    "        \n",
    "        # Export dataframe\n",
    "        export_data = ExportData(self.df, f\"electronically_filt {self.df.shape}\")\n",
    "        export_data.export_to_excel()\n",
    "        \n",
    "    def run(self):\n",
    "        self.filter_animal_words()\n",
    "        self.filter_paediatric_words()\n",
    "        self.dataframe_filtering()\n",
    "        return self.df\n",
    "        \n",
    "if __name__ == '__main__':\n",
    "    Datafilter = DataFilter(dataframe)\n",
    "    dataframe = Datafilter.run()    "
   ]
  }
 ],
 "metadata": {
  "kernelspec": {
   "display_name": "Python 3 (ipykernel)",
   "language": "python",
   "name": "python3"
  },
  "language_info": {
   "codemirror_mode": {
    "name": "ipython",
    "version": 3
   },
   "file_extension": ".py",
   "mimetype": "text/x-python",
   "name": "python",
   "nbconvert_exporter": "python",
   "pygments_lexer": "ipython3",
   "version": "3.11.5"
  }
 },
 "nbformat": 4,
 "nbformat_minor": 5
}
